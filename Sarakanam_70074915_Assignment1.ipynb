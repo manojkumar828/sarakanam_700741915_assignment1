{
 "cells": [
  {
   "cell_type": "code",
   "execution_count": 8,
   "id": "a2c68aca",
   "metadata": {},
   "outputs": [
    {
     "name": "stdout",
     "output_type": "stream",
     "text": [
      "Sorted age: [19, 19, 20, 22, 24, 24, 24, 25, 25, 26]\n",
      "Min age of the given list: 19\n",
      "Max age of the given list: 26\n",
      "Adding the min and max values again: [19, 19, 20, 22, 24, 24, 24, 25, 25, 26, 19, 26]\n",
      "Median age of the list: 24.0\n",
      "Avg of the given list =  22.75\n",
      "Range of the list =  7\n"
     ]
    }
   ],
   "source": [
    "#sorting the list of ages\n",
    "import statistics \n",
    "ages = [19, 22, 19, 24, 20, 25, 26, 24, 25, 24]\n",
    "# Sorts age list in ascending order by default\n",
    "ages.sort()\n",
    "print (\"Sorted age:\", ages) \n",
    "# Displays min value as we used min() method\n",
    "print (\"Min age of the given list:\", min(ages)) \n",
    "# Displays max value as we used max() method\n",
    "print (\"Max age of the given list:\", max(ages)) \n",
    "# Adding again min and max values \n",
    "ages.append(min(ages)) \n",
    "ages.append(max(ages))\n",
    "print (\"Adding the min and max values again:\",ages) #Displays the list again with new values\n",
    "# Median\n",
    "mdn_age = statistics.median(ages)\n",
    "print (\"Median age of the list:\", mdn_age)\n",
    "# Average age\n",
    "average= sum(ages)/len(ages)\n",
    "print (\"Avg of the given list = \", average)\n",
    "# Range\n",
    "rng=max(ages)-min(ages)\n",
    "print (\"Range of the list = \", rng)"
   ]
  },
  {
   "cell_type": "code",
   "execution_count": 13,
   "id": "5f66f4f5",
   "metadata": {
    "scrolled": false
   },
   "outputs": [
    {
     "name": "stdout",
     "output_type": "stream",
     "text": [
      "Dog Dictionary Created: {'name': 'Lucky', 'color': 'Brown', 'breed': 'German Shepard', 'legs': '4', 'age': '5'}\n",
      "Student Dictionary Created: {'first_name': 'Manoj', 'last_name': 'Sarakanam', 'Gender': 'male', 'age': '23', 'marital_status': 'single', 'skills': 'dancer', 'Country': 'India', 'City': 'Hyderabad', 'Address': '5/2/19'}\n",
      "Skills Dictionary Created: {'dancer': '1', 'technical knowledge': '2', 'coder': '3'}\n",
      "Length of student dictonery: 9\n",
      "Datatype of skills: <class 'dict'>\n",
      "Values of skills: dict_values(['1', '2', '3'])\n",
      "New skill added: {'dancer': '1', 'technical knowledge': '2', 'coder': '3', 'creativity': 4}\n",
      "Dog keys: dict_keys(['name', 'color', 'breed', 'legs', 'age'])\n",
      "Student values: dict_values(['Manoj', 'Sarakanam', 'male', '23', 'single', 'dancer', 'India', 'Hyderabad', '5/2/19'])\n"
     ]
    }
   ],
   "source": [
    "# Dog dictionary is created with given key and values\n",
    "dog = {'name':'Lucky','color':'Brown','breed':'German Shepard','legs':'4','age':'5'}\n",
    "print (\"Dog Dictionary Created:\",dog)\n",
    "# Student dictionary is created with given key and values\n",
    "student ={'first_name':'Manoj','last_name':'Sarakanam','Gender':'male','age':'23','marital_status':'single',\n",
    "'skills':'dancer','Country':'India','City':'Hyderabad','Address':'5/2/19'}\n",
    "print (\"Student Dictionary Created:\",student)\n",
    "# Create another dictionary for skills\n",
    "skills = {'dancer':'1','technical knowledge':'2','coder':'3'}\n",
    "print (\"Skills Dictionary Created:\",skills)\n",
    "# Find the length of student dictionary\n",
    "print (\"Length of student dictonery:\", len(student))\n",
    "# Check the datatype of skills\n",
    "print (\"Datatype of skills:\",type(skills))\n",
    "# Get values of skills dictionary\n",
    "print (\"Values of skills:\",skills.values())\n",
    "# Add one item to skills\n",
    "skills['creativity'] = 4\n",
    "print (\"New skill added:\",skills)\n",
    "# Get dog and student key and values\n",
    "print (\"Dog keys:\",dog.keys())\n",
    "print (\"Student values:\",student.values())"
   ]
  },
  {
   "cell_type": "code",
   "execution_count": 22,
   "id": "2e7b9bea",
   "metadata": {},
   "outputs": [
    {
     "name": "stdout",
     "output_type": "stream",
     "text": [
      "Siblings: ('Mounika', 'Bhavana', 'Padma', 'Usha Kiran', 'Sai Sunil', 'Avinash', 'Vamshi', 'Harshith')\n",
      "Length of Siblings: 8\n",
      "Family_members: ('Mounika', 'Bhavana', 'Padma', 'Usha Kiran', 'Sai Sunil', 'Avinash', 'Vamshi', 'Harshith', 'Satyanarayana', 'Kumari')\n"
     ]
    }
   ],
   "source": [
    "my_sisters = ('Mounika','Bhavana','Padma','Usha Kiran') \n",
    "my_brothers = ('Sai Sunil','Avinash','Vamshi','Harshith')\n",
    "# Create another tuple as siblings and join the sister’s and brother’s tuple\n",
    "siblings = my_sisters + my_brothers\n",
    "# Displays siblings’ output and length of siblings\n",
    "print(\"Siblings:\", siblings)\n",
    "print(\"Length of Siblings:\", len(siblings))\n",
    "# Create another tuple as family_members and add father and mother name to it\n",
    "family_members = siblings + ('Satyanarayana','Kumari')\n",
    "# Displays family_members output\n",
    "print(\"Family_members:\",family_members)\n"
   ]
  },
  {
   "cell_type": "code",
   "execution_count": 25,
   "id": "4f814a95",
   "metadata": {},
   "outputs": [
    {
     "name": "stdout",
     "output_type": "stream",
     "text": [
      "Length of it_companies: 7\n",
      "After adding another it_company: {'Amazon', 'Apple', 'IBM', 'Twitter', 'Facebook', 'Oracle', 'Microsoft', 'Google'}\n",
      "After adding multiple items: {'Wipro', 'Twitter', 'Capgemini', 'Infosys', 'Microsoft', 'Google', 'Amazon', 'Apple', 'IBM', 'Facebook', 'Oracle', 'TCS'}\n",
      "After removing one company: {'Wipro', 'Twitter', 'Capgemini', 'Infosys', 'Microsoft', 'Google', 'Amazon', 'Apple', 'IBM', 'Facebook', 'Oracle'}\n",
      "After discarding company: {'Wipro', 'Twitter', 'Capgemini', 'Infosys', 'Microsoft', 'Google', 'Amazon', 'Apple', 'IBM', 'Facebook', 'Oracle'}\n",
      "Join A and B: {19, 20, 22, 24, 25, 26, 27, 28}\n",
      "Intersection of A and B: {19, 20, 22, 24, 25, 26}\n",
      "Subset of A and B: True\n",
      "Disjoint: False\n",
      "Converting list to set: {19, 22, 24, 25, 26}\n",
      "Length of set: 5\n",
      "Length of list: 8\n",
      "Symmetric diff: {27, 28}\n",
      "set()\n",
      "set()\n"
     ]
    }
   ],
   "source": [
    "#Length of the set\n",
    "it_companies = {'Facebook', 'Google', 'Microsoft', 'Apple', 'IBM', 'Oracle', 'Amazon'}\n",
    "print(\"Length of it_companies:\", len(it_companies))\n",
    "#Add twitter\n",
    "it_companies.add('Twitter')\n",
    "print(\"After adding another it_company:\",it_companies)\n",
    "#Add multiple it_companies\n",
    "it_companies.update({'Infosys','Capgemini','Wipro','TCS'})\n",
    "print(\"After adding multiple items:\",it_companies)\n",
    "#Remove\n",
    "it_companies.remove('TCS')\n",
    "print(\"After removing one company:\",it_companies)\n",
    "#Discard\n",
    "it_companies.discard('TCS')\n",
    "print(\"After discarding company:\",it_companies)\n",
    "#Discard doesn't raise any error if any item is not present in the set\n",
    "#Join A & B\n",
    "A = {19, 22, 24, 20, 25, 26}\n",
    "B = {19, 22, 20, 25, 26, 24, 28, 27} \n",
    "print(\"Join A and B:\", A.union(B))\n",
    "#Intersection\n",
    "print(\"Intersection of A and B:\", A.intersection(B))\n",
    "#Subset\n",
    "print(\"Subset of A and B:\", A.issubset(B))\n",
    "#Disjoint\n",
    "print(\"Disjoint:\", A.isdisjoint(B))\n",
    "#Convert list to set\n",
    "age = [22, 19, 24, 25, 26, 24, 25, 24]\n",
    "print(\"Converting list to set:\", set(age))\n",
    "#Length of set\n",
    "print(\"Length of set:\",len(set(age))) \n",
    "#Length of list\n",
    "print(\"Length of list:\",len(age))\n",
    "#Symmetric diff- returns values which are not in common with other set\n",
    "print(\"Symmetric diff:\",A.symmetric_difference(B))\n",
    "#delete set \n",
    "A.clear()\n",
    "print(A) \n",
    "B.clear()\n",
    "print(B)"
   ]
  },
  {
   "cell_type": "code",
   "execution_count": 28,
   "id": "abe19274",
   "metadata": {},
   "outputs": [
    {
     "name": "stdout",
     "output_type": "stream",
     "text": [
      "enter raduis:30\n",
      "Area of Circle: 2826.0\n",
      "Circumference of Circle: 188.4\n"
     ]
    }
   ],
   "source": [
    "# Initialise r where r value can be read from user inpt\n",
    "r = int(input(\"enter raduis:\"))\n",
    "# Calculate area of circle and circumference of circle\n",
    "area_of_circle = 3.14*r*r \n",
    "circum_of_circle = 2*3.14*r\n",
    "# Display area of circle and circumference of circle\n",
    "print(\"Area of Circle:\",area_of_circle)\n",
    "print(\"Circumference of Circle:\",circum_of_circle)"
   ]
  },
  {
   "cell_type": "code",
   "execution_count": 48,
   "id": "98a68563",
   "metadata": {},
   "outputs": [
    {
     "name": "stdout",
     "output_type": "stream",
     "text": [
      "I am a teacher and I love to inspire and teach people\n",
      "{'I', 'love', 'inspire', 'and', 'teacher', 'am', 'teach', 'people', 'a', 'to'}\n",
      "number of unique words in given sentence is: 10\n"
     ]
    }
   ],
   "source": [
    "# Unique\n",
    "str= \"I am a teacher and I love to inspire and teach people\"\n",
    "print(str)\n",
    "# Use split method to separate the words and set to get the unique values\n",
    "set_str=set(y)\n",
    "print(set_str)\n",
    "print (\"number of unique words in given sentence is: %s\"% len(set_str))"
   ]
  },
  {
   "cell_type": "code",
   "execution_count": 55,
   "id": "5b3d0da0",
   "metadata": {},
   "outputs": [
    {
     "name": "stdout",
     "output_type": "stream",
     "text": [
      "Name\t Age\t Country\t City\t \n",
      "Asabeneh 250\t Finland\t Helsinki\n"
     ]
    }
   ],
   "source": [
    "a= \"Name\\t Age\\t Country\\t City\\t \\nAsabeneh 250\\t Finland\\t Helsinki\"\n",
    "print(a)"
   ]
  },
  {
   "cell_type": "code",
   "execution_count": 41,
   "id": "1f4300c0",
   "metadata": {},
   "outputs": [
    {
     "name": "stdout",
     "output_type": "stream",
     "text": [
      "radius = 10\n",
      "area = 3.14*radius**2\n",
      "\"The area of circle with radius 30 is 2826.0 meters square\"\n"
     ]
    }
   ],
   "source": [
    "#Using String format method\n",
    "print(f'radius = 10')\n",
    "print(f'area = 3.14*radius**2')\n",
    "print(f'\"The area of circle with radius {r} is {3.14*r*r} meters square\"')"
   ]
  },
  {
   "cell_type": "code",
   "execution_count": 42,
   "id": "659a7198",
   "metadata": {},
   "outputs": [
    {
     "name": "stdout",
     "output_type": "stream",
     "text": [
      "150 155 145 148\n",
      "Values are: [68.03, 70.29, 65.76, 67.12]\n"
     ]
    }
   ],
   "source": [
    "#Creating a list(L1) for weights(lbs) of N students\n",
    "L1=[int(num) for num in input().split(\" \")]\n",
    "#Creating another list called W_kg\n",
    "W_kg=[] \n",
    "#Using for loop to iterate the values and appending the list\n",
    "for i in L1:\n",
    " W_kg.append(round(i/2.205,2))\n",
    "#Displaying the values in kgs after conversion\n",
    "print (\"Values are:\",W_kg)"
   ]
  },
  {
   "cell_type": "code",
   "execution_count": null,
   "id": "aef2f658",
   "metadata": {},
   "outputs": [],
   "source": []
  }
 ],
 "metadata": {
  "kernelspec": {
   "display_name": "Python 3 (ipykernel)",
   "language": "python",
   "name": "python3"
  },
  "language_info": {
   "codemirror_mode": {
    "name": "ipython",
    "version": 3
   },
   "file_extension": ".py",
   "mimetype": "text/x-python",
   "name": "python",
   "nbconvert_exporter": "python",
   "pygments_lexer": "ipython3",
   "version": "3.9.12"
  }
 },
 "nbformat": 4,
 "nbformat_minor": 5
}
